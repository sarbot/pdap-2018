{
 "cells": [
  {
   "cell_type": "markdown",
   "metadata": {},
   "source": [
    "# PDAP-2018: Exam Homework Exercise 2\n",
    "\n",
    "## Summer term 2018\n",
    "### University of Bremen / Dr. Andreas Hilboll"
   ]
  },
  {
   "cell_type": "markdown",
   "metadata": {},
   "source": [
    "This is the second graded homework assignment for the course *Practical Data Analysis with Python*.  There will be one more graded homework assignment towards the end of the semester; your total course grade will consist of the aggregated grades of all threehomework assignments.\n",
    "\n",
    "## Rules and regulations\n",
    "\n",
    "### When to submit\n",
    "This homework must be submitted by Monday, 02 July 2018, 08:00:00 CET\n",
    "\n",
    "### How to submit\n",
    "For now, you can submit this homework assignment by sending the Jupyter notebook (`.ipynb` file) to [hilboll@uni-bremen.de](mailto:hilboll@uni-bremen.de).\n",
    "\n",
    "**Note:** It is *your* responsibility to make sure that your homework submission reaches me in time.  If in doubt, submit early and ask me if I received your file.\n",
    "\n",
    "### Technical requirements\n",
    "Your solution has to be written to this Jupyter Notebook.  Please rename the notebook so that your last name(s) is/are included in the filename.  Your solution has to consist of exactly one (i.e., this) file.  Please leave the blocks labled **EVALUATION** in place so that I can fill them out when correcting your submission.\n",
    "\n",
    "### Study groups\n",
    "You are allowed to complete this homework assignment either alone or in groups of up to two students.  In case you do not do your homework alone, please clearly state who has contributed how much to which part of the homework.\n",
    "\n",
    "### Discussion\n",
    "At the end of the semester, there will be a separate ~20 minute oral discussion for each study group, in which all students are expected be able to demonstrate that they understand the code they submitted.\n",
    "\n",
    "### Using internet resources\n",
    "You are allowed to use book and/or internet resources to complete this homework assignment.  However, you are expected to a) clearly state any reference you have used to complete the assigment (e.g., by giving the URL to a website in a code comment), and b) to be able to explain the code you are writing.\n",
    "\n",
    "### Evaluation criteria\n",
    "You will be graded on all *tasks* laid out below.  There are some possibilities to earn extra credit, clearly indicated in the task description."
   ]
  },
  {
   "cell_type": "markdown",
   "metadata": {},
   "source": [
    "## Background\n",
    "\n",
    "NO2 is a trace gas which is produced mainly from the burning of fossil fuels;\n",
    "other (natural) sources include biomass burning (forest fires, agricultural\n",
    "fires), lightning, and microbial emissions from soils.\n",
    "\n",
    "MAX-DOAS stands for *Multi-AXis Differential Optical Absorption Spectroscopy*.\n",
    "The instrument consists of a telescope and a spectrometer, which measure the\n",
    "intensity of scattered sunlight in different elevation and azimuth directions.\n",
    "DOAS is an application of the Beer-Lambert law, in which the integrated trace\n",
    "gas concentration along the average light path (from the sun to the instrument),\n",
    "called *slant column* or *slant column density*, is derived from the trace gas'\n",
    "absorption cross section (measured in the laboratory) and the attenuation of the\n",
    "scattered sunlight in the atmosphere.  The slant column density is in units of\n",
    "*molecules per ground area*.  As it depends strongly on the length of the light\n",
    "path, it is larger close to sunrise and sunset, when the sun is low, compared to\n",
    "midday, when the sun is high.\n",
    "\n",
    "The elevation angle is the angle between the vertical (pointing downwards) and\n",
    "the viewing elevation of the telescope, i.e., it is 90° for looking towards the\n",
    "horizon and 180° for looking towards the zenith.\n",
    "\n",
    "The azimuth angle is the geographical direction of the telescope line-of-sight.\n",
    "In these data files, it is defined to go from -180° to 180°, with -90° being\n",
    "East, 0° being South, and 90° being West.\n",
    "\n",
    "## Technical comments\n",
    "- The filename of the NO2 data files (`*.VisNO2A`) contains two pieces of\n",
    "  information, the date (in the form `YYMMDD`) and one of five viewing azimuth\n",
    "  directions (`SS`, `TS`, `US`, `VS`, `WS`).  For example, the file\n",
    "  `130624VS.VisNO2A` contains measurements from 24 Jun 2013 for the azimuth\n",
    "  direction `VS`.\n",
    "- The data files start with a description of the file contents. Each of the first comment lines, starting with `*`, contains information on the contents of one column.  E.g., the first column contains information on *Day of Year 1993* and the second column contains information on *Uhrzeit [UT]*.\n",
    "- The NO2 slant column density is contained in the column *Schräge Säule NO2*\n",
    "- The column *Day of Year 1993* contains the days which passed since\n",
    "  1992-12-31T00:00:00 UTC.  This means that for example 23 Jun 2013 has values\n",
    "  between 7479.0 and 7480.0.\n",
    "- The column *Line of Sight* contains the elevation angle in degrees."
   ]
  },
  {
   "cell_type": "markdown",
   "metadata": {},
   "source": [
    "## Task 0: Participants\n",
    "\n",
    "Please fill in your personal details into the following table:\n",
    "\n",
    "| Last name | First name | Study program | Student ID |\n",
    "|-----------|------------|---------------|------------|\n",
    "| FOO       | Alice      | PEP           | 1234567    |\n",
    "| BAR       | Bob        | SST           | 7654321    |"
   ]
  },
  {
   "cell_type": "markdown",
   "metadata": {},
   "source": [
    "## Part 1: NO2 data analysis for the Athens measurements\n",
    "\n",
    "### Data download\n",
    "Download the NO2 data files from here: https://seafile.zfn.uni-bremen.de/f/097046dd20/ (download size ~85M; uncompressed size ~260M) and unzip them to a new folder in your course repository. **Note:** Do not commit this directory to version control!"
   ]
  },
  {
   "cell_type": "markdown",
   "metadata": {},
   "source": [
    "### Task 1.1\n",
    "Write a function to read a single data file.\n",
    "\n",
    "Use the `pandas.read_csv()` function to read the data file.  You can use the following optional keyword arguments:\n",
    "- `names` -> to define what the columns in the data frame should be called\n",
    "- `encoding` -> needed to accomodate some special characters in the files.  set it to the string `\"cp1252\"`\n",
    "- `comment` -> specify which columns should not be interpreted as values\n",
    "- `usecols` -> choose the required columns\n",
    "- `delim_whitespace` -> specify that the values are separated by whitespace\n",
    "\n",
    "After reading the data, the function should add two additional columns to the DataFrame:\n",
    "- a column `timestamp` specifying the date/time of the measurement.  You can use the function `netCDF4.num2date` to create the datetime objects needed to do this\n",
    "- a column `azimuth_direction` specifying the azimuth direction's letter (see above, one of `S`, `T`, `U`, `V`, `W`).  You can use the functions `os.path.split` and `os.path.splitext` and string indexing to extract this information from the `filename` parameter.\n",
    "\n",
    "The function should return one single `pandas.DataFrame` which has the columns `no2_scd`, `solar_zenith_angle`, `azimuth_direction`, and `elevation_angle`; the DataFrame's *index* should be the `timestamp`.\n",
    "\n",
    "Note that the columns might be called differently in the file, so you will have to rename the columns after reading the DataFrame.  Here is a translation of column names as used in the file to column names as they should be in the DataFrame:\n",
    "\n",
    "| in file               | in output            |\n",
    "|-----------------------|----------------------|\n",
    "| not there (see above) | `timestamp`          |\n",
    "| `a[NO2]`              | `no2_scd`            |\n",
    "| `zenith_angle`        | `solar_zenith_angle` |\n",
    "| not there (see above) | `azimuth_direction`  |\n",
    "| `los`                 | `elevation_angle`    |\n"
   ]
  },
  {
   "cell_type": "markdown",
   "metadata": {},
   "source": [
    "To help you, here is a list of all columns contained in the data file:"
   ]
  },
  {
   "cell_type": "code",
   "execution_count": null,
   "metadata": {},
   "outputs": [],
   "source": [
    "column_names = 'day-of-year-1993 time time_LT endtime zenith_angle solar-azimuth-angle los viewing-azimuth-angle ref-zenith-angle ref-azimuth-angle ref-LOS a[O3] sig[O3] a[NO2] sig[NO2] a[O4] sig[O4] a[BrO] sig[BrO] a[H2O] sig[H2O] a[RING] sig[RING] a[Offset] sig[Offset] a[Bezug] sig[Bezug] sh[Bezug] sq[Bezug] chisq Q rms it spikes ints expt'.split()\n",
    "print(column_names)"
   ]
  },
  {
   "cell_type": "markdown",
   "metadata": {},
   "source": [
    "You can start from this function stub:"
   ]
  },
  {
   "cell_type": "code",
   "execution_count": null,
   "metadata": {},
   "outputs": [],
   "source": [
    "import os.path\n",
    "import pandas as pd\n",
    "import netCDF4\n",
    "\n",
    "def read_datafile(filename):\n",
    "    # this is a list of all columns contained in the data file\n",
    "    column_names = 'day-of-year-1993 time time_LT endtime zenith_angle solar-azimuth-angle los viewing-azimuth-angle ref-zenith-angle ref-azimuth-angle ref-LOS a[O3] sig[O3] a[NO2] sig[NO2] a[O4] sig[O4] a[BrO] sig[BrO] a[H2O] sig[H2O] a[RING] sig[RING] a[Offset] sig[Offset] a[Bezug] sig[Bezug] sh[Bezug] sq[Bezug] chisq Q rms it spikes ints expt'.split()\n",
    "\n",
    "    df = pd.read_csv(filename, )  # add the above keyword arguments to this function call\n",
    "    \n",
    "    df['datetime'] =  # add the date/time of the measurement.\n",
    "    \n",
    "    # delete the day-of-year-1993 column\n",
    "    del ...\n",
    "    \n",
    "    df['azimuth_direction'] =   # add the letter specifying the azimuth direction.\n",
    "    \n",
    "    df.columns =   # rename the columns as required\n",
    "    \n",
    "    # make the the timestamp column the DataFrame's index\n",
    "    df....\n",
    "    \n",
    "    return df"
   ]
  },
  {
   "cell_type": "markdown",
   "metadata": {},
   "source": [
    "Use this function to read any one data file:"
   ]
  },
  {
   "cell_type": "code",
   "execution_count": null,
   "metadata": {},
   "outputs": [],
   "source": [
    "df = read_datafile(...)\n",
    "df"
   ]
  },
  {
   "cell_type": "markdown",
   "metadata": {},
   "source": [
    "**EVALUATION**\n",
    "\n",
    "*Grade:*  / 1.0\n",
    "\n",
    "*Comment:*"
   ]
  },
  {
   "cell_type": "markdown",
   "metadata": {},
   "source": [
    "### Task 1.2\n",
    "Create a data frame consisting of all NO2 measurements for year 2013, and save this data frame to a HDF file.  First you will need to use `glob.glob()` to create a list of all relevant file names, and then loop over this list.  After you have concatenated all files' data into one large DataFrame, make sure that it is sorted by timestamp, and use the DataFrame's `.to_hdf()` method to save."
   ]
  },
  {
   "cell_type": "code",
   "execution_count": null,
   "metadata": {},
   "outputs": [],
   "source": []
  },
  {
   "cell_type": "markdown",
   "metadata": {},
   "source": [
    "**EVALUATION**\n",
    "\n",
    "*Grade:*  / 1.0\n",
    "\n",
    "*Comment:*"
   ]
  },
  {
   "cell_type": "markdown",
   "metadata": {},
   "source": [
    "### Task 1.3\n",
    "Choose one azimuth direction.  For this azimuth direction, calculate the average NO2 for each elevation and month.  The result should be a `pandas.DataFrame` with one *column* per elevation angle, and one *row* per month."
   ]
  },
  {
   "cell_type": "code",
   "execution_count": null,
   "metadata": {
    "collapsed": true
   },
   "outputs": [],
   "source": []
  },
  {
   "cell_type": "markdown",
   "metadata": {},
   "source": [
    "**EVALUATION**\n",
    "\n",
    "*Grade:*  / 1.0\n",
    "\n",
    "*Comment:*"
   ]
  },
  {
   "cell_type": "markdown",
   "metadata": {},
   "source": [
    "### Task 1.4\n",
    "For the same azimuth direction as in *Task 1.3*, calculate the annual mean NO2 for each elevation.  The result should be a `pandas.Series`, with the elevation angle as index."
   ]
  },
  {
   "cell_type": "code",
   "execution_count": null,
   "metadata": {
    "collapsed": true
   },
   "outputs": [],
   "source": []
  },
  {
   "cell_type": "markdown",
   "metadata": {},
   "source": [
    "**EVALUATION**\n",
    "\n",
    "*Grade:*  / 1.0\n",
    "\n",
    "*Comment:*"
   ]
  },
  {
   "cell_type": "markdown",
   "metadata": {},
   "source": [
    "### Task 1.5\n",
    "There is more than one way of calculating the annual mean:\n",
    "\n",
    "- Directly calculate the mean for each elevation from the data frame containing all measurements\n",
    "- Calculate the annual mean as the average of the monthly mean values\n",
    "\n",
    "#### Task 1.5.1\n",
    "Explain under which circumstances the two methods can yield different results."
   ]
  },
  {
   "cell_type": "markdown",
   "metadata": {},
   "source": []
  },
  {
   "cell_type": "markdown",
   "metadata": {},
   "source": [
    "**EVALUATION**\n",
    "\n",
    "*Grade:*  / 0.5\n",
    "\n",
    "*Comment:*"
   ]
  },
  {
   "cell_type": "markdown",
   "metadata": {},
   "source": [
    "#### Task 1.5.2\n",
    "Implement the variant you did not choose in *Task 1.3* and visually compare the results."
   ]
  },
  {
   "cell_type": "code",
   "execution_count": null,
   "metadata": {
    "collapsed": true
   },
   "outputs": [],
   "source": []
  },
  {
   "cell_type": "markdown",
   "metadata": {},
   "source": [
    "**EVALUATION**\n",
    "\n",
    "*Grade:*  / 1.0\n",
    "\n",
    "*Comment:*"
   ]
  },
  {
   "cell_type": "markdown",
   "metadata": {},
   "source": [
    "### Task 1.6\n",
    "Write a function, which takes as inputs\n",
    "\n",
    "1. the data frame you created in *Task 1.2*\n",
    "2. the azimuth direction\n",
    "3. the elevation angle\n",
    "\n",
    "and returns a data frame of average diurnal cycle (i.e., hourly means) for the specified azimuth and elevation, for each month, i.e., the data frame should have the month (`Jan`, `Feb`, ...) as columns and the time-of-day as index.\n",
    "\n",
    "*Hint:* First write a helper function which takes the same inputs as before plus the month as fourth input, and returns as a series the average diurnal cycle for this month. Then, use this helper function inside a loop to solve this task."
   ]
  },
  {
   "cell_type": "code",
   "execution_count": null,
   "metadata": {
    "collapsed": true
   },
   "outputs": [],
   "source": []
  },
  {
   "cell_type": "markdown",
   "metadata": {},
   "source": [
    "**EVALUATION**\n",
    "\n",
    "*Grade:*  / 1.0\n",
    "\n",
    "*Comment:*"
   ]
  },
  {
   "cell_type": "markdown",
   "metadata": {},
   "source": [
    "### Task 1.7\n",
    "Choose any one azimuth direction.  For this azimuth direction, plot the average diurnal cycle for each month and elevation angle. The time-of-day should be on the x-axis, and the NO2 value on the y-axis.\n",
    "\n",
    "If possible (optional - *extra credit!*), do this by creating one subplot for each elevation angle, with all months for the same elevation angle within the same plot.  Use different colors for each month."
   ]
  },
  {
   "cell_type": "code",
   "execution_count": null,
   "metadata": {
    "collapsed": true
   },
   "outputs": [],
   "source": []
  },
  {
   "cell_type": "markdown",
   "metadata": {},
   "source": [
    "**EVALUATION**\n",
    "\n",
    "*Grade:*  / 1.0\n",
    "\n",
    "*Comment:*"
   ]
  },
  {
   "cell_type": "markdown",
   "metadata": {},
   "source": [
    "### Task 1.8\n",
    "Choose any one elevation angle and any pair of two azimuth directions.  For this subset of data, create a scatter plot of all daily mean NO2 values (one azimuth direction on *x*, the other azimuth direction on *y*)."
   ]
  },
  {
   "cell_type": "code",
   "execution_count": null,
   "metadata": {
    "collapsed": true
   },
   "outputs": [],
   "source": []
  },
  {
   "cell_type": "markdown",
   "metadata": {},
   "source": [
    "**EVALUATION**\n",
    "\n",
    "*Grade:*  / 1.0\n",
    "\n",
    "*Comment:*"
   ]
  },
  {
   "cell_type": "markdown",
   "metadata": {},
   "source": [
    "#### Task 1.8.1 (extra credit)\n",
    "As in *Task 1.8*, but give each scatter point a color indicating the month, and include a legend for the different colors."
   ]
  },
  {
   "cell_type": "code",
   "execution_count": null,
   "metadata": {
    "collapsed": true
   },
   "outputs": [],
   "source": []
  },
  {
   "cell_type": "markdown",
   "metadata": {},
   "source": [
    "**EVALUATION**\n",
    "\n",
    "*Grade:*  / 0.5\n",
    "\n",
    "*Comment:*"
   ]
  },
  {
   "cell_type": "markdown",
   "metadata": {},
   "source": [
    "### Task 1.9 (extra credit)\n",
    "Use the [xarray](http://xarray.pydata.org/) module to create a four-dimensional array holding the average diurnal cycle for all months, elevation angles, and azimuth directions, and save this array to a netCDF file.\n",
    "\n",
    "*Hint:* You will want to create a 4D `xarray.DataArray`, with the dimensions *month*, *time*, *azimuth*, and *elevation*, and iteratively fill this array in loops over azimuth and elevation, using the functions from above."
   ]
  },
  {
   "cell_type": "code",
   "execution_count": null,
   "metadata": {
    "collapsed": true
   },
   "outputs": [],
   "source": []
  },
  {
   "cell_type": "markdown",
   "metadata": {},
   "source": [
    "**EVALUATION**\n",
    "\n",
    "*Grade:*  / 1.0\n",
    "\n",
    "*Comment:*"
   ]
  },
  {
   "cell_type": "markdown",
   "metadata": {},
   "source": [
    "## Part 2: Analysis of the Mauna Loa CO2 time series"
   ]
  },
  {
   "cell_type": "markdown",
   "metadata": {},
   "source": [
    "### Task 2.1\n",
    "Create a data frame of the Mauna Loa CO2 measurements, available at ftp://aftp.cmdl.noaa.gov/products/trends/co2/co2_mm_mlo.txt, and plot the CO2 time series.  The actual CO2 value is contained in the column *average*."
   ]
  },
  {
   "cell_type": "code",
   "execution_count": null,
   "metadata": {
    "collapsed": true
   },
   "outputs": [],
   "source": []
  },
  {
   "cell_type": "markdown",
   "metadata": {},
   "source": [
    "**EVALUATION**\n",
    "\n",
    "*Grade:*  / 1.0\n",
    "\n",
    "*Comment:*"
   ]
  },
  {
   "cell_type": "markdown",
   "metadata": {},
   "source": [
    "### Task 2.2\n",
    "Calculate annual minima, maxima, and averages from the CO2 data and plot these.  Your plot should have time on the x-axis, CO2 on the y-axis, and should show three different lines."
   ]
  },
  {
   "cell_type": "code",
   "execution_count": null,
   "metadata": {
    "collapsed": true
   },
   "outputs": [],
   "source": []
  },
  {
   "cell_type": "markdown",
   "metadata": {},
   "source": [
    "**EVALUATION**\n",
    "\n",
    "*Grade:*  / 1.0\n",
    "\n",
    "*Comment:*"
   ]
  }
 ],
 "metadata": {
  "kernelspec": {
   "display_name": "py3",
   "language": "python",
   "name": "python3"
  },
  "language_info": {
   "codemirror_mode": {
    "name": "ipython",
    "version": 3
   },
   "file_extension": ".py",
   "mimetype": "text/x-python",
   "name": "python",
   "nbconvert_exporter": "python",
   "pygments_lexer": "ipython3",
   "version": "3.6.5"
  }
 },
 "nbformat": 4,
 "nbformat_minor": 2
}
