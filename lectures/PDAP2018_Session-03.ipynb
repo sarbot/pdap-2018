{
 "cells": [
  {
   "cell_type": "markdown",
   "metadata": {},
   "source": [
    "# Session 03 (20 Apr 2018)\n",
    "## PDAP-2018"
   ]
  },
  {
   "cell_type": "markdown",
   "metadata": {},
   "source": [
    "### Contents\n",
    "\n",
    "This session covered the following parts of the course [Plotting and Programming in Python](https://swcarpentry.github.io/python-novice-gapminder/):\n",
    "\n",
    "- [Running and Quitting](https://swcarpentry.github.io/python-novice-gapminder/01-run-quit/)\n",
    "- [Variables and Assignment](https://swcarpentry.github.io/python-novice-gapminder/02-variables/)\n",
    "- [Data Types and Type Conversion](https://swcarpentry.github.io/python-novice-gapminder/03-types-conversion/)\n",
    "- [Built-in Functions and Help](https://swcarpentry.github.io/python-novice-gapminder/04-built-in/)\n",
    "- [Libraries](https://swcarpentry.github.io/python-novice-gapminder/06-libraries/)"
   ]
  },
  {
   "cell_type": "markdown",
   "metadata": {},
   "source": [
    "### Transcript\n",
    "\n",
    "Unfortunately, there is not transcript available."
   ]
  }
 ],
 "metadata": {
  "kernelspec": {
   "display_name": "py3",
   "language": "python",
   "name": "python3"
  },
  "language_info": {
   "codemirror_mode": {
    "name": "ipython",
    "version": 3
   },
   "file_extension": ".py",
   "mimetype": "text/x-python",
   "name": "python",
   "nbconvert_exporter": "python",
   "pygments_lexer": "ipython3",
   "version": "3.6.5"
  }
 },
 "nbformat": 4,
 "nbformat_minor": 2
}
