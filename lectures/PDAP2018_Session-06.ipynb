{
 "cells": [
  {
   "cell_type": "markdown",
   "metadata": {},
   "source": [
    "# Session 06 (11 May 2018)\n",
    "## PDAP-2018"
   ]
  },
  {
   "cell_type": "markdown",
   "metadata": {},
   "source": [
    "### Contents\n",
    "\n",
    "This session covered the following parts of the course [Plotting and Programming in Python](https://swcarpentry.github.io/python-novice-gapminder/):\n",
    "\n",
    "- [Writing Functions](https://swcarpentry.github.io/python-novice-gapminder/14-writing-functions/)\n",
    "- [Variable Scope](https://swcarpentry.github.io/python-novice-gapminder/15-scope/)\n",
    "- [Conditionals](https://swcarpentry.github.io/python-novice-gapminder/17-conditionals/)"
   ]
  },
  {
   "cell_type": "markdown",
   "metadata": {},
   "source": [
    "### Transcript\n",
    "\n",
    "Unfortunately, there is not transcript available."
   ]
  }
 ],
 "metadata": {
  "kernelspec": {
   "display_name": "py3",
   "language": "python",
   "name": "python3"
  },
  "language_info": {
   "codemirror_mode": {
    "name": "ipython",
    "version": 3
   },
   "file_extension": ".py",
   "mimetype": "text/x-python",
   "name": "python",
   "nbconvert_exporter": "python",
   "pygments_lexer": "ipython3",
   "version": "3.6.5"
  }
 },
 "nbformat": 4,
 "nbformat_minor": 2
}
